{
 "cells": [
  {
   "cell_type": "markdown",
   "source": [
    "# NLP - Natural language processing"
   ],
   "metadata": {
    "collapsed": false
   }
  },
  {
   "cell_type": "code",
   "execution_count": 1,
   "metadata": {
    "collapsed": true,
    "ExecuteTime": {
     "end_time": "2023-07-30T21:36:21.303824680Z",
     "start_time": "2023-07-30T21:36:19.872130598Z"
    }
   },
   "outputs": [],
   "source": [
    "import numpy as np\n",
    "import pandas as pd\n",
    "import os\n",
    "import matplotlib.pyplot as plt\n",
    "from collections import Counter\n",
    "import random\n",
    "\n",
    "from sklearn.model_selection import train_test_split"
   ]
  },
  {
   "cell_type": "markdown",
   "source": [
    "## Load IMDB movie reviews dataset"
   ],
   "metadata": {
    "collapsed": false
   }
  },
  {
   "cell_type": "code",
   "execution_count": 2,
   "outputs": [
    {
     "name": "stdout",
     "output_type": "stream",
     "text": [
      "train/pos/ loaded.\n",
      "train/neg/ loaded.\n",
      "test/pos/ loaded.\n",
      "test/neg/ loaded.\n"
     ]
    }
   ],
   "source": [
    "path = \"../data/aclImdb_v1/aclImdb/\"\n",
    "\n",
    "\n",
    "def load_from_subfoler():\n",
    "    X = []\n",
    "    y = []\n",
    "    for subfolder in ['train/', 'test/']:\n",
    "        for subsubfolder in ['pos/', 'neg/']:\n",
    "            n = len(os.listdir(path + subfolder + subsubfolder))\n",
    "            for i, file in enumerate(os.listdir(path + subfolder + subsubfolder)):\n",
    "                sentiment = int(file.split('.')[0].split(\"_\")[1])\n",
    "                with open(path + subfolder + subsubfolder + file, 'r', encoding='utf-8') as f:\n",
    "                    review = f.read()\n",
    "                X.append(review)\n",
    "                y.append(sentiment)\n",
    "            print(f\"{subfolder + subsubfolder} loaded.\")\n",
    "    return X, y\n",
    "\n",
    "\n",
    "X, y = load_from_subfoler()"
   ],
   "metadata": {
    "collapsed": false,
    "ExecuteTime": {
     "end_time": "2023-07-30T21:36:24.812688577Z",
     "start_time": "2023-07-30T21:36:21.307142516Z"
    }
   }
  },
  {
   "cell_type": "code",
   "execution_count": 3,
   "outputs": [
    {
     "data": {
      "text/plain": "                                                  review  sentiment  \\\n0      I don't know much about the Rat Pack, and Fran...         10   \n1      Looking at some of the negative posts, you rea...         10   \n2      It was only on my second viewing, years later,...          8   \n3      I recently started watching this show, and I h...         10   \n4      Yes, as unbelievable as it may be, in 1968 a m...         10   \n...                                                  ...        ...   \n49995  In watching Enterprise for the first time, as ...          2   \n49996  There have been many movies, on living the Ame...          1   \n49997  \"Graduation Day\" - <br /><br />i bought this m...          2   \n49998  I have never watched a movie that frustrated m...          3   \n49999  EVAN ALMIGHTY (2007) ** Steve Carell, Morgan F...          4   \n\n       sentiment_binary  \n0                     1  \n1                     1  \n2                     1  \n3                     1  \n4                     1  \n...                 ...  \n49995                 0  \n49996                 0  \n49997                 0  \n49998                 0  \n49999                 0  \n\n[50000 rows x 3 columns]",
      "text/html": "<div>\n<style scoped>\n    .dataframe tbody tr th:only-of-type {\n        vertical-align: middle;\n    }\n\n    .dataframe tbody tr th {\n        vertical-align: top;\n    }\n\n    .dataframe thead th {\n        text-align: right;\n    }\n</style>\n<table border=\"1\" class=\"dataframe\">\n  <thead>\n    <tr style=\"text-align: right;\">\n      <th></th>\n      <th>review</th>\n      <th>sentiment</th>\n      <th>sentiment_binary</th>\n    </tr>\n  </thead>\n  <tbody>\n    <tr>\n      <th>0</th>\n      <td>I don't know much about the Rat Pack, and Fran...</td>\n      <td>10</td>\n      <td>1</td>\n    </tr>\n    <tr>\n      <th>1</th>\n      <td>Looking at some of the negative posts, you rea...</td>\n      <td>10</td>\n      <td>1</td>\n    </tr>\n    <tr>\n      <th>2</th>\n      <td>It was only on my second viewing, years later,...</td>\n      <td>8</td>\n      <td>1</td>\n    </tr>\n    <tr>\n      <th>3</th>\n      <td>I recently started watching this show, and I h...</td>\n      <td>10</td>\n      <td>1</td>\n    </tr>\n    <tr>\n      <th>4</th>\n      <td>Yes, as unbelievable as it may be, in 1968 a m...</td>\n      <td>10</td>\n      <td>1</td>\n    </tr>\n    <tr>\n      <th>...</th>\n      <td>...</td>\n      <td>...</td>\n      <td>...</td>\n    </tr>\n    <tr>\n      <th>49995</th>\n      <td>In watching Enterprise for the first time, as ...</td>\n      <td>2</td>\n      <td>0</td>\n    </tr>\n    <tr>\n      <th>49996</th>\n      <td>There have been many movies, on living the Ame...</td>\n      <td>1</td>\n      <td>0</td>\n    </tr>\n    <tr>\n      <th>49997</th>\n      <td>\"Graduation Day\" - &lt;br /&gt;&lt;br /&gt;i bought this m...</td>\n      <td>2</td>\n      <td>0</td>\n    </tr>\n    <tr>\n      <th>49998</th>\n      <td>I have never watched a movie that frustrated m...</td>\n      <td>3</td>\n      <td>0</td>\n    </tr>\n    <tr>\n      <th>49999</th>\n      <td>EVAN ALMIGHTY (2007) ** Steve Carell, Morgan F...</td>\n      <td>4</td>\n      <td>0</td>\n    </tr>\n  </tbody>\n</table>\n<p>50000 rows × 3 columns</p>\n</div>"
     },
     "execution_count": 3,
     "metadata": {},
     "output_type": "execute_result"
    },
    {
     "data": {
      "text/plain": "<Figure size 432x288 with 1 Axes>",
      "image/png": "[encoded data removed]"
     },
     "metadata": {
      "needs_background": "light"
     },
     "output_type": "display_data"
    }
   ],
   "source": [
    "df = pd.DataFrame({'review': X, 'sentiment': y})\n",
    "df['sentiment_binary'] = df['sentiment'].apply(lambda x: 1 if x > 5 else 0)\n",
    "\n",
    "df['sentiment'].value_counts().reindex(range(1, 11), fill_value=0).plot(\n",
    "    kind='bar',\n",
    "    title='Sentiment distribution',\n",
    "    ylabel='Number of reviews',\n",
    ")\n",
    "\n",
    "df"
   ],
   "metadata": {
    "collapsed": false,
    "ExecuteTime": {
     "end_time": "2023-07-30T21:36:45.296197846Z",
     "start_time": "2023-07-30T21:36:45.117889445Z"
    }
   }
  },
  {
   "cell_type": "markdown",
   "source": [
    "# Predicting the sentiment"
   ],
   "metadata": {
    "collapsed": false
   }
  },
  {
   "cell_type": "markdown",
   "source": [
    "## Prepare data for training"
   ],
   "metadata": {
    "collapsed": false
   }
  },
  {
   "cell_type": "code",
   "execution_count": 13,
   "outputs": [
    {
     "name": "stdout",
     "output_type": "stream",
     "text": [
      "Vocabulary size: 439838\n"
     ]
    }
   ],
   "source": [
    "tokens = list(map(lambda x: set(x.split(\" \")), df['review'].values))\n",
    "\n",
    "vocab = set()\n",
    "\n",
    "for sent in tokens:\n",
    "    for word in sent:\n",
    "        if len(word) > 0:\n",
    "            vocab.add(word)\n",
    "\n",
    "vocab = list(vocab)\n",
    "\n",
    "print(f\"Vocabulary size: {len(vocab)}\")\n",
    "\n",
    "word2idx = {w: idx for (idx, w) in enumerate(vocab)}"
   ],
   "metadata": {
    "collapsed": false,
    "ExecuteTime": {
     "end_time": "2023-07-30T19:26:35.778916966Z",
     "start_time": "2023-07-30T19:26:31.311132844Z"
    }
   }
  },
  {
   "cell_type": "code",
   "execution_count": 14,
   "outputs": [
    {
     "data": {
      "text/plain": "                                                  review  sentiment  \\\n0      I don't know much about the Rat Pack, and Fran...         10   \n1      Looking at some of the negative posts, you rea...         10   \n2      It was only on my second viewing, years later,...          8   \n3      I recently started watching this show, and I h...         10   \n4      Yes, as unbelievable as it may be, in 1968 a m...         10   \n...                                                  ...        ...   \n49995  In watching Enterprise for the first time, as ...          2   \n49996  There have been many movies, on living the Ame...          1   \n49997  \"Graduation Day\" - <br /><br />i bought this m...          2   \n49998  I have never watched a movie that frustrated m...          3   \n49999  EVAN ALMIGHTY (2007) ** Steve Carell, Morgan F...          4   \n\n       sentiment_binary                                      review_tokens  \n0                     1  [2696, 6410, 8723, 15514, 16539, 23217, 23490,...  \n1                     1  [25099, 27324, 30779, 34020, 35531, 37961, 432...  \n2                     1  [2817, 3291, 6846, 14144, 17734, 18463, 25395,...  \n3                     1  [7032, 23217, 23674, 27157, 29677, 30119, 3077...  \n4                     1  [1927, 12075, 14124, 18640, 22589, 27280, 3077...  \n...                 ...                                                ...  \n49995                 0  [206, 267, 2696, 3240, 6156, 6654, 10332, 1119...  \n49996                 0  [630, 5813, 13547, 15262, 15323, 23490, 30119,...  \n49997                 0  [2696, 6536, 7491, 23261, 30368, 30597, 30779,...  \n49998                 0  [6156, 25108, 30779, 33617, 34020, 37961, 3850...  \n49999                 0  [6156, 7797, 10169, 14769, 18640, 22200, 30779...  \n\n[50000 rows x 4 columns]",
      "text/html": "<div>\n<style scoped>\n    .dataframe tbody tr th:only-of-type {\n        vertical-align: middle;\n    }\n\n    .dataframe tbody tr th {\n        vertical-align: top;\n    }\n\n    .dataframe thead th {\n        text-align: right;\n    }\n</style>\n<table border=\"1\" class=\"dataframe\">\n  <thead>\n    <tr style=\"text-align: right;\">\n      <th></th>\n      <th>review</th>\n      <th>sentiment</th>\n      <th>sentiment_binary</th>\n      <th>review_tokens</th>\n    </tr>\n  </thead>\n  <tbody>\n    <tr>\n      <th>0</th>\n      <td>I don't know much about the Rat Pack, and Fran...</td>\n      <td>10</td>\n      <td>1</td>\n      <td>[2696, 6410, 8723, 15514, 16539, 23217, 23490,...</td>\n    </tr>\n    <tr>\n      <th>1</th>\n      <td>Looking at some of the negative posts, you rea...</td>\n      <td>10</td>\n      <td>1</td>\n      <td>[25099, 27324, 30779, 34020, 35531, 37961, 432...</td>\n    </tr>\n    <tr>\n      <th>2</th>\n      <td>It was only on my second viewing, years later,...</td>\n      <td>8</td>\n      <td>1</td>\n      <td>[2817, 3291, 6846, 14144, 17734, 18463, 25395,...</td>\n    </tr>\n    <tr>\n      <th>3</th>\n      <td>I recently started watching this show, and I h...</td>\n      <td>10</td>\n      <td>1</td>\n      <td>[7032, 23217, 23674, 27157, 29677, 30119, 3077...</td>\n    </tr>\n    <tr>\n      <th>4</th>\n      <td>Yes, as unbelievable as it may be, in 1968 a m...</td>\n      <td>10</td>\n      <td>1</td>\n      <td>[1927, 12075, 14124, 18640, 22589, 27280, 3077...</td>\n    </tr>\n    <tr>\n      <th>...</th>\n      <td>...</td>\n      <td>...</td>\n      <td>...</td>\n      <td>...</td>\n    </tr>\n    <tr>\n      <th>49995</th>\n      <td>In watching Enterprise for the first time, as ...</td>\n      <td>2</td>\n      <td>0</td>\n      <td>[206, 267, 2696, 3240, 6156, 6654, 10332, 1119...</td>\n    </tr>\n    <tr>\n      <th>49996</th>\n      <td>There have been many movies, on living the Ame...</td>\n      <td>1</td>\n      <td>0</td>\n      <td>[630, 5813, 13547, 15262, 15323, 23490, 30119,...</td>\n    </tr>\n    <tr>\n      <th>49997</th>\n      <td>\"Graduation Day\" - &lt;br /&gt;&lt;br /&gt;i bought this m...</td>\n      <td>2</td>\n      <td>0</td>\n      <td>[2696, 6536, 7491, 23261, 30368, 30597, 30779,...</td>\n    </tr>\n    <tr>\n      <th>49998</th>\n      <td>I have never watched a movie that frustrated m...</td>\n      <td>3</td>\n      <td>0</td>\n      <td>[6156, 25108, 30779, 33617, 34020, 37961, 3850...</td>\n    </tr>\n    <tr>\n      <th>49999</th>\n      <td>EVAN ALMIGHTY (2007) ** Steve Carell, Morgan F...</td>\n      <td>4</td>\n      <td>0</td>\n      <td>[6156, 7797, 10169, 14769, 18640, 22200, 30779...</td>\n    </tr>\n  </tbody>\n</table>\n<p>50000 rows × 4 columns</p>\n</div>"
     },
     "execution_count": 7,
     "metadata": {},
     "output_type": "execute_result"
    },
    {
     "data": {
      "text/plain": "                                                  review  sentiment  \\\n0      I don't know much about the Rat Pack, and Fran...         10   \n1      Looking at some of the negative posts, you rea...         10   \n2      It was only on my second viewing, years later,...          8   \n3      I recently started watching this show, and I h...         10   \n4      Yes, as unbelievable as it may be, in 1968 a m...         10   \n...                                                  ...        ...   \n49995  In watching Enterprise for the first time, as ...          2   \n49996  There have been many movies, on living the Ame...          1   \n49997  \"Graduation Day\" - <br /><br />i bought this m...          2   \n49998  I have never watched a movie that frustrated m...          3   \n49999  EVAN ALMIGHTY (2007) ** Steve Carell, Morgan F...          4   \n\n       sentiment_binary                                      review_tokens  \n0                     1  [2696, 6410, 8723, 15514, 16539, 23217, 23490,...  \n1                     1  [25099, 27324, 30779, 34020, 35531, 37961, 432...  \n2                     1  [2817, 3291, 6846, 14144, 17734, 18463, 25395,...  \n3                     1  [7032, 23217, 23674, 27157, 29677, 30119, 3077...  \n4                     1  [1927, 12075, 14124, 18640, 22589, 27280, 3077...  \n...                 ...                                                ...  \n49995                 0  [206, 267, 2696, 3240, 6156, 6654, 10332, 1119...  \n49996                 0  [630, 5813, 13547, 15262, 15323, 23490, 30119,...  \n49997                 0  [2696, 6536, 7491, 23261, 30368, 30597, 30779,...  \n49998                 0  [6156, 25108, 30779, 33617, 34020, 37961, 3850...  \n49999                 0  [6156, 7797, 10169, 14769, 18640, 22200, 30779...  \n\n[50000 rows x 4 columns]",
      "text/html": "<div>\n<style scoped>\n    .dataframe tbody tr th:only-of-type {\n        vertical-align: middle;\n    }\n\n    .dataframe tbody tr th {\n        vertical-align: top;\n    }\n\n    .dataframe thead th {\n        text-align: right;\n    }\n</style>\n<table border=\"1\" class=\"dataframe\">\n  <thead>\n    <tr style=\"text-align: right;\">\n      <th></th>\n      <th>review</th>\n      <th>sentiment</th>\n      <th>sentiment_binary</th>\n      <th>review_tokens</th>\n    </tr>\n  </thead>\n  <tbody>\n    <tr>\n      <th>0</th>\n      <td>I don't know much about the Rat Pack, and Fran...</td>\n      <td>10</td>\n      <td>1</td>\n      <td>[2696, 6410, 8723, 15514, 16539, 23217, 23490,...</td>\n    </tr>\n    <tr>\n      <th>1</th>\n      <td>Looking at some of the negative posts, you rea...</td>\n      <td>10</td>\n      <td>1</td>\n      <td>[25099, 27324, 30779, 34020, 35531, 37961, 432...</td>\n    </tr>\n    <tr>\n      <th>2</th>\n      <td>It was only on my second viewing, years later,...</td>\n      <td>8</td>\n      <td>1</td>\n      <td>[2817, 3291, 6846, 14144, 17734, 18463, 25395,...</td>\n    </tr>\n    <tr>\n      <th>3</th>\n      <td>I recently started watching this show, and I h...</td>\n      <td>10</td>\n      <td>1</td>\n      <td>[7032, 23217, 23674, 27157, 29677, 30119, 3077...</td>\n    </tr>\n    <tr>\n      <th>4</th>\n      <td>Yes, as unbelievable as it may be, in 1968 a m...</td>\n      <td>10</td>\n      <td>1</td>\n      <td>[1927, 12075, 14124, 18640, 22589, 27280, 3077...</td>\n    </tr>\n    <tr>\n      <th>...</th>\n      <td>...</td>\n      <td>...</td>\n      <td>...</td>\n      <td>...</td>\n    </tr>\n    <tr>\n      <th>49995</th>\n      <td>In watching Enterprise for the first time, as ...</td>\n      <td>2</td>\n      <td>0</td>\n      <td>[206, 267, 2696, 3240, 6156, 6654, 10332, 1119...</td>\n    </tr>\n    <tr>\n      <th>49996</th>\n      <td>There have been many movies, on living the Ame...</td>\n      <td>1</td>\n      <td>0</td>\n      <td>[630, 5813, 13547, 15262, 15323, 23490, 30119,...</td>\n    </tr>\n    <tr>\n      <th>49997</th>\n      <td>\"Graduation Day\" - &lt;br /&gt;&lt;br /&gt;i bought this m...</td>\n      <td>2</td>\n      <td>0</td>\n      <td>[2696, 6536, 7491, 23261, 30368, 30597, 30779,...</td>\n    </tr>\n    <tr>\n      <th>49998</th>\n      <td>I have never watched a movie that frustrated m...</td>\n      <td>3</td>\n      <td>0</td>\n      <td>[6156, 25108, 30779, 33617, 34020, 37961, 3850...</td>\n    </tr>\n    <tr>\n      <th>49999</th>\n      <td>EVAN ALMIGHTY (2007) ** Steve Carell, Morgan F...</td>\n      <td>4</td>\n      <td>0</td>\n      <td>[6156, 7797, 10169, 14769, 18640, 22200, 30779...</td>\n    </tr>\n  </tbody>\n</table>\n<p>50000 rows × 4 columns</p>\n</div>"
     },
     "execution_count": 14,
     "metadata": {},
     "output_type": "execute_result"
    }
   ],
   "source": [
    "df['review_tokens'] = df['review'].apply(\n",
    "    lambda x: np.unique([word2idx[i] for i in x.split(\" \")])\n",
    ")\n",
    "\n",
    "df"
   ],
   "metadata": {
    "collapsed": false
   }
  },
  {
   "cell_type": "code",
   "execution_count": 15,
   "outputs": [],
   "source": [
    "X_train, X_test, y_train, y_test = train_test_split(\n",
    "    df['review_tokens'].values,\n",
    "    df['sentiment_binary'].values,\n",
    "    test_size=0.2,\n",
    "    random_state=42,\n",
    ")"
   ],
   "metadata": {
    "collapsed": false,
    "ExecuteTime": {
     "end_time": "2023-07-30T19:26:39.763978429Z",
     "start_time": "2023-07-30T19:26:21.752554382Z"
    }
   }
  },
  {
   "cell_type": "markdown",
   "source": [
    "## Linear model with embedding layer"
   ],
   "metadata": {
    "collapsed": false
   }
  },
  {
   "cell_type": "markdown",
   "source": [
    "#### Embedding layer\n",
    "\n",
    "Taking a vector of 1s and 0s is mathematically equivalent to summing several rows of a matrix. Thus, it’s much more efficient to select the relevant rows of weights_0_1and sum them as opposed to doing a big vector-matrix multiplication. Because the sentiment vocabulary is on the order of 70,000 words, most of the vector-matrix multiplication is spent multiplying 0s in the input vector by different rows of the matrix before summing them. Selecting the rows corresponding to each word in a matrix and summing them is much more efficient.\n",
    "\n",
    "$$\n",
    "\\begin{bmatrix} 0 & \\textbf{1} & 0 & 0 & \\textbf{1}\n",
    "\\end{bmatrix}\n",
    "\n",
    "\\begin{bmatrix} 0.1 & 0.2 & 0.3 & 0.4 & 0.5 \\\\\n",
    "\\textbf{0.6} & \\textbf{0.7} & \\textbf{0.8} & \\textbf{0.9} & \\textbf{1.0} \\\\\n",
    "0.11 & 0.12 & 0.13 & 0.14 & 0.15 \\\\\n",
    "0.16 & 0.17 & 0.18 & 0.19 & 0.20 \\\\\n",
    "\\textbf{0.21} & \\textbf{0.22} & \\textbf{0.23} & \\textbf{0.24} & \\textbf{0.25} \\\\\n",
    "\\end{bmatrix}\n",
    "\n",
    "= \\begin{bmatrix} 0.81 \\\\ 0.92 \\\\ 1.03 \\\\ 1.14 \\\\ 1.25 \\\\\n",
    "\\end{bmatrix}\n",
    "$$\n",
    "\n",
    "Using this process of selecting rows and performing a sum (or average) means treating the first linear layer (weights_0_1) as an embedding layer. Structurally, they’re identical (layer_1is exactly the same using either method for forward propagation). The only difference is that summing a small number of rows is much faster."
   ],
   "metadata": {
    "collapsed": false
   }
  },
  {
   "cell_type": "code",
   "execution_count": 80,
   "outputs": [
    {
     "name": "stdout",
     "output_type": "stream",
     "text": [
      "Progress: 0.0 Training Accuracy: 1.0\n",
      "Progress: 0.02 Training Accuracy: 0.5245\n",
      "Progress: 0.05 Training Accuracy: 0.5797\n",
      "Progress: 0.07 Training Accuracy: 0.6341\n",
      "Progress: 0.1 Training Accuracy: 0.6701\n",
      "Progress: 0.12 Training Accuracy: 0.6949\n",
      "Progress: 0.15 Training Accuracy: 0.711\n",
      "Progress: 0.17 Training Accuracy: 0.7239\n",
      "Progress: 0.2 Training Accuracy: 0.7347\n",
      "Progress: 0.22 Training Accuracy: 0.7459\n",
      "Progress: 0.25 Training Accuracy: 0.7543\n",
      "Progress: 0.27 Training Accuracy: 0.7624\n",
      "Progress: 0.3 Training Accuracy: 0.7675\n",
      "Progress: 0.32 Training Accuracy: 0.7736\n",
      "Progress: 0.35 Training Accuracy: 0.7779\n",
      "Progress: 0.37 Training Accuracy: 0.7823\n",
      "Progress: 0.4 Training Accuracy: 0.7855\n",
      "Progress: 0.42 Training Accuracy: 0.7898\n",
      "Progress: 0.45 Training Accuracy: 0.7933\n",
      "Progress: 0.47 Training Accuracy: 0.7958\n",
      "Progress: 0.5 Training Accuracy: 0.7988\n",
      "Progress: 0.52 Training Accuracy: 0.8006\n",
      "Progress: 0.55 Training Accuracy: 0.8023\n",
      "Progress: 0.57 Training Accuracy: 0.8043\n",
      "Progress: 0.6 Training Accuracy: 0.8056\n",
      "Progress: 0.62 Training Accuracy: 0.8075\n",
      "Progress: 0.65 Training Accuracy: 0.8089\n",
      "Progress: 0.67 Training Accuracy: 0.8107\n",
      "Progress: 0.7 Training Accuracy: 0.8117\n",
      "Progress: 0.72 Training Accuracy: 0.8133\n",
      "Progress: 0.75 Training Accuracy: 0.8148\n",
      "Progress: 0.77 Training Accuracy: 0.8167\n",
      "Progress: 0.8 Training Accuracy: 0.8181\n",
      "Progress: 0.82 Training Accuracy: 0.8197\n",
      "Progress: 0.85 Training Accuracy: 0.8206\n",
      "Progress: 0.87 Training Accuracy: 0.8225\n",
      "Progress: 0.9 Training Accuracy: 0.8237\n",
      "Progress: 0.92 Training Accuracy: 0.8249\n",
      "Progress: 0.95 Training Accuracy: 0.8263\n",
      "Progress: 0.97 Training Accuracy: 0.8272\n",
      "Test Accuracy: 0.8708\n",
      "\n",
      "Progress: 0.0 Training Accuracy: 0.8708\n",
      "Progress: 0.02 Training Accuracy: 0.8694\n",
      "Progress: 0.05 Training Accuracy: 0.8696\n",
      "Progress: 0.07 Training Accuracy: 0.8723\n",
      "Progress: 0.1 Training Accuracy: 0.8736\n",
      "Progress: 0.12 Training Accuracy: 0.8743\n",
      "Progress: 0.15 Training Accuracy: 0.8752\n",
      "Progress: 0.17 Training Accuracy: 0.8768\n",
      "Progress: 0.2 Training Accuracy: 0.8785\n",
      "Progress: 0.22 Training Accuracy: 0.8795\n",
      "Progress: 0.25 Training Accuracy: 0.8805\n",
      "Progress: 0.27 Training Accuracy: 0.8819\n",
      "Progress: 0.3 Training Accuracy: 0.8832\n",
      "Progress: 0.32 Training Accuracy: 0.885\n",
      "Progress: 0.35 Training Accuracy: 0.8863\n",
      "Progress: 0.37 Training Accuracy: 0.8877\n",
      "Progress: 0.4 Training Accuracy: 0.889\n",
      "Progress: 0.42 Training Accuracy: 0.8903\n",
      "Progress: 0.45 Training Accuracy: 0.8909\n",
      "Progress: 0.47 Training Accuracy: 0.8917\n",
      "Progress: 0.5 Training Accuracy: 0.8927\n",
      "Progress: 0.52 Training Accuracy: 0.8932\n",
      "Progress: 0.55 Training Accuracy: 0.8936\n",
      "Progress: 0.57 Training Accuracy: 0.8937\n",
      "Progress: 0.6 Training Accuracy: 0.8939\n",
      "Progress: 0.62 Training Accuracy: 0.8939\n",
      "Progress: 0.65 Training Accuracy: 0.894\n",
      "Progress: 0.67 Training Accuracy: 0.8941\n",
      "Progress: 0.7 Training Accuracy: 0.8943\n",
      "Progress: 0.72 Training Accuracy: 0.8948\n",
      "Progress: 0.75 Training Accuracy: 0.8951\n",
      "Progress: 0.77 Training Accuracy: 0.8958\n",
      "Progress: 0.8 Training Accuracy: 0.8961\n",
      "Progress: 0.82 Training Accuracy: 0.8965\n",
      "Progress: 0.85 Training Accuracy: 0.8964\n",
      "Progress: 0.87 Training Accuracy: 0.897\n",
      "Progress: 0.9 Training Accuracy: 0.8973\n",
      "Progress: 0.92 Training Accuracy: 0.8975\n",
      "Progress: 0.95 Training Accuracy: 0.8977\n",
      "Progress: 0.97 Training Accuracy: 0.8981\n",
      "Test Accuracy: 0.8723\n"
     ]
    }
   ],
   "source": [
    "def sigmoid(x):\n",
    "    return 1 / (1 + np.exp(-x))\n",
    "\n",
    "\n",
    "alpha, epochs = (0.01, 2)\n",
    "hidden_size = 100\n",
    "\n",
    "weights_0_1 = 0.2 * np.random.random((len(vocab), hidden_size)) - 0.1\n",
    "weights_1_2 = 0.2 * np.random.random((hidden_size, 1)) - 0.1\n",
    "\n",
    "correct, total = (0, 0)\n",
    "\n",
    "train_accs = []\n",
    "test_accs = []\n",
    "\n",
    "for e in range(epochs):\n",
    "    for i in range(len(X_train)):\n",
    "        x, y = (X_train[i], y_train[i])\n",
    "\n",
    "        layer_1 = sigmoid(np.sum(weights_0_1[x], axis=0))  # embed + sigmoid\n",
    "        layer_2 = sigmoid(np.dot(layer_1, weights_1_2))\n",
    "\n",
    "        layer_2_delta = layer_2 - y\n",
    "        layer_1_delta = layer_2_delta.dot(weights_1_2.T)\n",
    "\n",
    "        weights_0_1[x] -= layer_1_delta * alpha\n",
    "        weights_1_2 -= np.outer(layer_1, layer_2_delta) * alpha\n",
    "\n",
    "        if np.abs(layer_2_delta) < 0.5:\n",
    "            correct += 1\n",
    "        total += 1\n",
    "\n",
    "        if i % 1000 == 0:\n",
    "            progress = str(i / float(len(X_train)))\n",
    "\n",
    "            print(f\"Progress: {progress[:4]} Training Accuracy: {round(correct / float(total), 4)}\")\n",
    "            train_accs.append((e * len(X_train) + i, correct / float(total)))\n",
    "\n",
    "    correct, total = (0, 0)\n",
    "    for i in range(len(X_test)):\n",
    "        x, y = (X_test[i], y_test[i])\n",
    "        layer_1 = sigmoid(np.sum(weights_0_1[x], axis=0))\n",
    "        layer_2 = sigmoid(np.dot(layer_1, weights_1_2))\n",
    "\n",
    "        if np.abs(layer_2 - y) < 0.5:\n",
    "            correct += 1\n",
    "        total += 1\n",
    "\n",
    "    print(f\"Test Accuracy: {correct / float(total)}\\n\")\n",
    "    test_accs.append(((e + 1) * len(X_train), correct / float(total)))"
   ],
   "metadata": {
    "collapsed": false,
    "ExecuteTime": {
     "end_time": "2023-07-30T19:53:29.660426191Z",
     "start_time": "2023-07-30T19:53:20.884893373Z"
    }
   }
  },
  {
   "cell_type": "markdown",
   "source": [],
   "metadata": {
    "collapsed": false
   }
  },
  {
   "cell_type": "code",
   "execution_count": 82,
   "outputs": [
    {
     "data": {
      "text/plain": "Text(0, 0.5, 'Accuracy [%]')"
     },
     "execution_count": 82,
     "metadata": {},
     "output_type": "execute_result"
    },
    {
     "data": {
      "text/plain": "<Figure size 432x288 with 1 Axes>",
      "image/png": "[encoded data removed]"
     },
     "metadata": {
      "needs_background": "light"
     },
     "output_type": "display_data"
    }
   ],
   "source": [
    "def cast_x_axis_to_epochs(X):\n",
    "    a, b = zip(*X)\n",
    "    a = list(np.array(a) / float(len(X_train)))\n",
    "    return zip(a, b)\n",
    "\n",
    "\n",
    "plt.plot(*zip(*cast_x_axis_to_epochs(train_accs)), label='train')\n",
    "plt.scatter(*zip(*cast_x_axis_to_epochs(test_accs)), label='test', color='red')\n",
    "plt.legend()\n",
    "plt.grid()\n",
    "plt.xlabel('Epoch')\n",
    "plt.ylabel('Accuracy [%]')"
   ],
   "metadata": {
    "collapsed": false,
    "ExecuteTime": {
     "end_time": "2023-07-30T19:53:51.457845315Z",
     "start_time": "2023-07-30T19:53:51.356167468Z"
    }
   }
  },
  {
   "cell_type": "markdown",
   "source": [
    "## Comparing word embeddings"
   ],
   "metadata": {
    "collapsed": false
   }
  },
  {
   "cell_type": "code",
   "execution_count": 93,
   "outputs": [
    {
     "name": "stdout",
     "output_type": "stream",
     "text": [
      "Similar words to beautiful:\n",
      "\tatmosphere (0.69)\n",
      "\tgem, (0.71)\n",
      "\twax (0.73)\n",
      "\t9/10 (0.74)\n",
      "\t/>Still, (0.74)\n",
      "Similar words to terrible:\n",
      "\ttedious (0.74)\n",
      "\tsave (0.75)\n",
      "\tawful, (0.75)\n",
      "\tbad. (0.78)\n",
      "\tpointless (0.79)\n"
     ]
    }
   ],
   "source": [
    "def similar(target, limit=5):\n",
    "    target_idx = word2idx[target]\n",
    "    target_vec = weights_0_1[target_idx]\n",
    "\n",
    "    if limit > len(vocab):\n",
    "        limit = len(vocab)\n",
    "\n",
    "    distances = []\n",
    "    for i, word in enumerate(vocab):\n",
    "        if word != target:\n",
    "            vec = weights_0_1[i]\n",
    "            distances.append((word, round(np.linalg.norm(target_vec - vec), 2)))\n",
    "\n",
    "    return sorted(distances, key=lambda x: x[1])[1:limit + 1]\n",
    "\n",
    "\n",
    "def print_similar(word):\n",
    "    print(f\"Similar words to {word}:\")\n",
    "    for w in similar(word):\n",
    "        print(f\"\\t{w[0]} ({w[1]})\")\n",
    "\n",
    "\n",
    "print_similar(\"beautiful\")\n",
    "print_similar(\"terrible\")"
   ],
   "metadata": {
    "collapsed": false,
    "ExecuteTime": {
     "end_time": "2023-07-30T20:06:57.861907749Z",
     "start_time": "2023-07-30T20:06:49.113292064Z"
    }
   }
  },
  {
   "cell_type": "markdown",
   "source": [
    "# Fill in the blank"
   ],
   "metadata": {
    "collapsed": false
   }
  },
  {
   "cell_type": "code",
   "execution_count": 4,
   "outputs": [],
   "source": [
    "tokens = list(map(lambda x: x.split(\" \"), df['review'].values))\n",
    "\n",
    "wordcnt = Counter()\n",
    "for sent in tokens:\n",
    "    for word in sent:\n",
    "        wordcnt[word] -= 1\n",
    "vocab = list(set(map(lambda x: x[0], wordcnt.most_common())))\n",
    "\n",
    "word2idx = {}\n",
    "for i, word in enumerate(vocab):\n",
    "    word2idx[word] = i\n",
    "\n",
    "concatenated = []\n",
    "input_dataset = []\n",
    "for sent in tokens:\n",
    "    sent_indices = []\n",
    "    for word in sent:\n",
    "        try:\n",
    "            sent_indices.append(word2idx[word])\n",
    "            concatenated.append(word2idx[word])\n",
    "        except:\n",
    "            \"\"\n",
    "    input_dataset.append(sent_indices)\n",
    "concatenated = np.array(concatenated)\n",
    "\n",
    "random.shuffle(input_dataset)"
   ],
   "metadata": {
    "collapsed": false,
    "ExecuteTime": {
     "end_time": "2023-07-30T21:37:07.159380442Z",
     "start_time": "2023-07-30T21:36:57.648970538Z"
    }
   }
  },
  {
   "cell_type": "code",
   "execution_count": 16,
   "outputs": [
    {
     "name": "stdout",
     "output_type": "stream",
     "text": [
      "Progress: 0.0\n",
      "Progress: 0.003\n",
      "Progress: 0.005\n",
      "Progress: 0.007\n",
      "Progress: 0.01\n",
      "Progress: 0.013\n",
      "Progress: 0.015\n",
      "Progress: 0.018\n",
      "Progress: 0.02\n",
      "Progress: 0.022\n",
      "Progress: 0.025\n",
      "Progress: 0.028\n",
      "Progress: 0.03\n",
      "Progress: 0.033\n",
      "Progress: 0.035\n",
      "Progress: 0.037\n",
      "Progress: 0.04\n",
      "Progress: 0.043\n",
      "Progress: 0.045\n",
      "Progress: 0.048\n",
      "Progress: 0.05\n",
      "Progress: 0.052\n",
      "Progress: 0.055\n",
      "Progress: 0.058\n",
      "Progress: 0.06\n",
      "Progress: 0.062\n",
      "Progress: 0.065\n",
      "Progress: 0.068\n",
      "Progress: 0.07\n",
      "Progress: 0.072\n",
      "Progress: 0.075\n",
      "Progress: 0.077\n",
      "Progress: 0.08\n",
      "Progress: 0.083\n",
      "Progress: 0.085\n",
      "Progress: 0.087\n",
      "Progress: 0.09\n",
      "Progress: 0.092\n",
      "Progress: 0.095\n",
      "Progress: 0.098\n",
      "Progress: 0.1\n",
      "Progress: 0.102\n",
      "Progress: 0.105\n",
      "Progress: 0.107\n",
      "Progress: 0.11\n",
      "Progress: 0.113\n",
      "Progress: 0.115\n",
      "Progress: 0.117\n",
      "Progress: 0.12\n",
      "Progress: 0.122\n",
      "Progress: 0.125\n",
      "Progress: 0.128\n",
      "Progress: 0.13\n",
      "Progress: 0.133\n",
      "Progress: 0.135\n",
      "Progress: 0.138\n",
      "Progress: 0.14\n",
      "Progress: 0.142\n",
      "Progress: 0.145\n",
      "Progress: 0.147\n",
      "Progress: 0.15\n",
      "Progress: 0.152\n",
      "Progress: 0.155\n",
      "Progress: 0.158\n",
      "Progress: 0.16\n",
      "Progress: 0.163\n",
      "Progress: 0.165\n",
      "Progress: 0.168\n",
      "Progress: 0.17\n",
      "Progress: 0.172\n",
      "Progress: 0.175\n",
      "Progress: 0.177\n",
      "Progress: 0.18\n",
      "Progress: 0.182\n",
      "Progress: 0.185\n",
      "Progress: 0.188\n",
      "Progress: 0.19\n",
      "Progress: 0.193\n",
      "Progress: 0.195\n",
      "Progress: 0.198\n",
      "Progress: 0.2\n",
      "Progress: 0.203\n",
      "Progress: 0.205\n",
      "Progress: 0.207\n",
      "Progress: 0.21\n",
      "Progress: 0.212\n",
      "Progress: 0.215\n",
      "Progress: 0.217\n",
      "Progress: 0.22\n",
      "Progress: 0.223\n",
      "Progress: 0.225\n",
      "Progress: 0.228\n",
      "Progress: 0.23\n",
      "Progress: 0.233\n",
      "Progress: 0.235\n",
      "Progress: 0.237\n",
      "Progress: 0.24\n",
      "Progress: 0.242\n",
      "Progress: 0.245\n",
      "Progress: 0.247\n",
      "Progress: 0.25\n",
      "Progress: 0.253\n",
      "Progress: 0.255\n",
      "Progress: 0.258\n",
      "Progress: 0.26\n",
      "Progress: 0.263\n",
      "Progress: 0.265\n",
      "Progress: 0.268\n",
      "Progress: 0.27\n",
      "Progress: 0.273\n",
      "Progress: 0.275\n",
      "Progress: 0.278\n",
      "Progress: 0.28\n",
      "Progress: 0.282\n",
      "Progress: 0.285\n",
      "Progress: 0.287\n",
      "Progress: 0.29\n",
      "Progress: 0.292\n",
      "Progress: 0.295\n",
      "Progress: 0.297\n",
      "Progress: 0.3\n",
      "Progress: 0.302\n",
      "Progress: 0.305\n",
      "Progress: 0.307\n",
      "Progress: 0.31\n",
      "Progress: 0.312\n",
      "Progress: 0.315\n",
      "Progress: 0.318\n",
      "Progress: 0.32\n",
      "Progress: 0.323\n",
      "Progress: 0.325\n",
      "Progress: 0.328\n",
      "Progress: 0.33\n",
      "Progress: 0.333\n",
      "Progress: 0.335\n",
      "Progress: 0.338\n",
      "Progress: 0.34\n",
      "Progress: 0.343\n",
      "Progress: 0.345\n",
      "Progress: 0.347\n",
      "Progress: 0.35\n",
      "Progress: 0.352\n",
      "Progress: 0.355\n",
      "Progress: 0.357\n",
      "Progress: 0.36\n",
      "Progress: 0.362\n",
      "Progress: 0.365\n",
      "Progress: 0.367\n",
      "Progress: 0.37\n",
      "Progress: 0.372\n",
      "Progress: 0.375\n",
      "Progress: 0.378\n",
      "Progress: 0.38\n",
      "Progress: 0.383\n",
      "Progress: 0.385\n",
      "Progress: 0.388\n",
      "Progress: 0.39\n",
      "Progress: 0.393\n",
      "Progress: 0.395\n",
      "Progress: 0.398\n",
      "Progress: 0.4\n",
      "Progress: 0.403\n",
      "Progress: 0.405\n",
      "Progress: 0.407\n",
      "Progress: 0.41\n",
      "Progress: 0.412\n",
      "Progress: 0.415\n",
      "Progress: 0.417\n",
      "Progress: 0.42\n",
      "Progress: 0.422\n",
      "Progress: 0.425\n",
      "Progress: 0.427\n",
      "Progress: 0.43\n",
      "Progress: 0.432\n",
      "Progress: 0.435\n",
      "Progress: 0.438\n",
      "Progress: 0.44\n",
      "Progress: 0.443\n",
      "Progress: 0.445\n",
      "Progress: 0.448\n",
      "Progress: 0.45\n",
      "Progress: 0.453\n",
      "Progress: 0.455\n",
      "Progress: 0.458\n",
      "Progress: 0.46\n",
      "Progress: 0.463\n",
      "Progress: 0.465\n",
      "Progress: 0.468\n",
      "Progress: 0.47\n",
      "Progress: 0.472\n",
      "Progress: 0.475\n",
      "Progress: 0.477\n",
      "Progress: 0.48\n",
      "Progress: 0.482\n",
      "Progress: 0.485\n",
      "Progress: 0.487\n",
      "Progress: 0.49\n",
      "Progress: 0.492\n",
      "Progress: 0.495\n",
      "Progress: 0.497\n",
      "Progress: 0.5\n",
      "Progress: 0.502\n",
      "Progress: 0.505\n",
      "Progress: 0.507\n",
      "Progress: 0.51\n",
      "Progress: 0.512\n",
      "Progress: 0.515\n",
      "Progress: 0.517\n",
      "Progress: 0.52\n",
      "Progress: 0.522\n",
      "Progress: 0.525\n",
      "Progress: 0.527\n",
      "Progress: 0.53\n",
      "Progress: 0.532\n",
      "Progress: 0.535\n",
      "Progress: 0.537\n",
      "Progress: 0.54\n",
      "Progress: 0.542\n",
      "Progress: 0.545\n",
      "Progress: 0.547\n",
      "Progress: 0.55\n",
      "Progress: 0.552\n",
      "Progress: 0.555\n",
      "Progress: 0.557\n",
      "Progress: 0.56\n",
      "Progress: 0.562\n",
      "Progress: 0.565\n",
      "Progress: 0.568\n",
      "Progress: 0.57\n",
      "Progress: 0.573\n",
      "Progress: 0.575\n",
      "Progress: 0.578\n",
      "Progress: 0.58\n",
      "Progress: 0.583\n",
      "Progress: 0.585\n",
      "Progress: 0.588\n",
      "Progress: 0.59\n",
      "Progress: 0.593\n",
      "Progress: 0.595\n",
      "Progress: 0.598\n",
      "Progress: 0.6\n",
      "Progress: 0.603\n",
      "Progress: 0.605\n",
      "Progress: 0.608\n",
      "Progress: 0.61\n",
      "Progress: 0.613\n",
      "Progress: 0.615\n",
      "Progress: 0.618\n",
      "Progress: 0.62\n",
      "Progress: 0.623\n",
      "Progress: 0.625\n",
      "Progress: 0.627\n",
      "Progress: 0.63\n",
      "Progress: 0.632\n",
      "Progress: 0.635\n",
      "Progress: 0.637\n",
      "Progress: 0.64\n",
      "Progress: 0.642\n",
      "Progress: 0.645\n",
      "Progress: 0.647\n",
      "Progress: 0.65\n",
      "Progress: 0.652\n",
      "Progress: 0.655\n",
      "Progress: 0.657\n",
      "Progress: 0.66\n",
      "Progress: 0.662\n",
      "Progress: 0.665\n",
      "Progress: 0.667\n",
      "Progress: 0.67\n",
      "Progress: 0.672\n",
      "Progress: 0.675\n",
      "Progress: 0.677\n",
      "Progress: 0.68\n",
      "Progress: 0.682\n",
      "Progress: 0.685\n",
      "Progress: 0.688\n",
      "Progress: 0.69\n",
      "Progress: 0.693\n",
      "Progress: 0.695\n",
      "Progress: 0.698\n",
      "Progress: 0.7\n",
      "Progress: 0.703\n",
      "Progress: 0.705\n",
      "Progress: 0.708\n",
      "Progress: 0.71\n",
      "Progress: 0.713\n",
      "Progress: 0.715\n",
      "Progress: 0.718\n",
      "Progress: 0.72\n",
      "Progress: 0.723\n",
      "Progress: 0.725\n",
      "Progress: 0.728\n",
      "Progress: 0.73\n",
      "Progress: 0.733\n",
      "Progress: 0.735\n",
      "Progress: 0.738\n",
      "Progress: 0.74\n",
      "Progress: 0.743\n",
      "Progress: 0.745\n",
      "Progress: 0.748\n",
      "Progress: 0.75\n",
      "Progress: 0.752\n",
      "Progress: 0.755\n",
      "Progress: 0.757\n",
      "Progress: 0.76\n",
      "Progress: 0.762\n",
      "Progress: 0.765\n",
      "Progress: 0.767\n",
      "Progress: 0.77\n",
      "Progress: 0.772\n",
      "Progress: 0.775\n",
      "Progress: 0.777\n",
      "Progress: 0.78\n",
      "Progress: 0.782\n",
      "Progress: 0.785\n",
      "Progress: 0.787\n",
      "Progress: 0.79\n",
      "Progress: 0.792\n",
      "Progress: 0.795\n",
      "Progress: 0.797\n",
      "Progress: 0.8\n",
      "Progress: 0.802\n",
      "Progress: 0.805\n",
      "Progress: 0.807\n",
      "Progress: 0.81\n",
      "Progress: 0.812\n",
      "Progress: 0.815\n",
      "Progress: 0.818\n",
      "Progress: 0.82\n",
      "Progress: 0.823\n",
      "Progress: 0.825\n",
      "Progress: 0.828\n",
      "Progress: 0.83\n",
      "Progress: 0.833\n",
      "Progress: 0.835\n",
      "Progress: 0.838\n",
      "Progress: 0.84\n",
      "Progress: 0.843\n",
      "Progress: 0.845\n",
      "Progress: 0.848\n",
      "Progress: 0.85\n",
      "Progress: 0.853\n",
      "Progress: 0.855\n",
      "Progress: 0.858\n",
      "Progress: 0.86\n",
      "Progress: 0.863\n",
      "Progress: 0.865\n",
      "Progress: 0.868\n",
      "Progress: 0.87\n",
      "Progress: 0.873\n",
      "Progress: 0.875\n",
      "Progress: 0.877\n",
      "Progress: 0.88\n",
      "Progress: 0.882\n",
      "Progress: 0.885\n",
      "Progress: 0.887\n",
      "Progress: 0.89\n",
      "Progress: 0.892\n",
      "Progress: 0.895\n",
      "Progress: 0.897\n",
      "Progress: 0.9\n",
      "Progress: 0.902\n",
      "Progress: 0.905\n",
      "Progress: 0.907\n",
      "Progress: 0.91\n",
      "Progress: 0.912\n",
      "Progress: 0.915\n",
      "Progress: 0.917\n",
      "Progress: 0.92\n",
      "Progress: 0.922\n",
      "Progress: 0.925\n",
      "Progress: 0.927\n",
      "Progress: 0.93\n",
      "Progress: 0.932\n",
      "Progress: 0.935\n",
      "Progress: 0.938\n",
      "Progress: 0.94\n",
      "Progress: 0.943\n",
      "Progress: 0.945\n",
      "Progress: 0.948\n",
      "Progress: 0.95\n",
      "Progress: 0.953\n",
      "Progress: 0.955\n",
      "Progress: 0.958\n",
      "Progress: 0.96\n",
      "Progress: 0.963\n",
      "Progress: 0.965\n",
      "Progress: 0.968\n",
      "Progress: 0.97\n",
      "Progress: 0.973\n",
      "Progress: 0.975\n",
      "Progress: 0.978\n",
      "Progress: 0.98\n",
      "Progress: 0.983\n",
      "Progress: 0.985\n",
      "Progress: 0.988\n",
      "Progress: 0.99\n",
      "Progress: 0.993\n",
      "Progress: 0.995\n",
      "Progress: 0.998\n"
     ]
    }
   ],
   "source": [
    "alpha, epochs = (0.05, 2)\n",
    "hidden_size, window, negative = (50, 2, 5)\n",
    "\n",
    "weights_0_1 = (np.random.rand(len(vocab), hidden_size) - 0.5) * 0.2\n",
    "weights_1_2 = np.random.rand(len(vocab), hidden_size) * 0\n",
    "\n",
    "layer_2_target = np.zeros(negative + 1)\n",
    "layer_2_target[0] = 1\n",
    "\n",
    "\n",
    "def similar(target, limit=10):\n",
    "    target_idx = word2idx[target]\n",
    "    target_vec = weights_0_1[target_idx]\n",
    "\n",
    "    scores = Counter()\n",
    "    for word, i in word2idx.items():\n",
    "        vec = weights_0_1[i] - weights_0_1[target_idx]\n",
    "        squared_dist = vec * vec\n",
    "        scores[word] = -np.sqrt(sum(squared_dist))\n",
    "    return scores.most_common(limit)\n",
    "\n",
    "\n",
    "def sigmoid(x):\n",
    "    return 1 / (1 + np.exp(-x))\n",
    "\n",
    "\n",
    "for rev_i, review in enumerate(input_dataset * epochs):\n",
    "    for target_i in range(len(review)):\n",
    "        target_samples = [review[target_i]] + list(\n",
    "            concatenated[(np.random.rand(negative) * len(concatenated)).astype('int').tolist()])\n",
    "        left_context = review[max(0, target_i - window):target_i]\n",
    "        right_context = review[target_i + 1:min(len(review), target_i + window)]\n",
    "\n",
    "        layer_1 = np.mean(weights_0_1[left_context + right_context], axis=0)\n",
    "        layer_2 = sigmoid(layer_1.dot(weights_1_2[target_samples].T))\n",
    "\n",
    "        layer_2_delta = layer_2 - layer_2_target\n",
    "        layer_1_delta = layer_2_delta.dot(weights_1_2[target_samples])\n",
    "\n",
    "        weights_0_1[left_context + right_context] -= layer_1_delta * alpha\n",
    "        weights_1_2[target_samples] -= np.outer(layer_2_delta, layer_1) * alpha\n",
    "\n",
    "    if rev_i % 250 == 0:\n",
    "        print(f\"Progress: {round(rev_i / float(len(input_dataset) * epochs), 3)}\")\n",
    "        # print(f\"Test accuracy: {round(np.mean([1 if word in similar(word)[:4] else 0 for word in vocab]), 3)}\")\n",
    "\n"
   ],
   "metadata": {
    "collapsed": false,
    "ExecuteTime": {
     "end_time": "2023-07-30T22:15:08.426547219Z",
     "start_time": "2023-07-30T21:51:15.112357149Z"
    }
   }
  },
  {
   "cell_type": "code",
   "execution_count": 17,
   "outputs": [
    {
     "name": "stdout",
     "output_type": "stream",
     "text": [
      "Similar words to 'terrible':\n",
      "[('terrible', -0.0), ('horrible', -2.8164821106641833), ('dreadful', -3.3138343827504904), ('splendid', -3.442779428963893), ('brilliant', -3.5244437772414545), ('mediocre', -3.562157391014161), ('crappy', -3.6207349878076354), ('wonderful', -3.715391499362222), ('horrendous', -3.7266735665135156), ('fabulous', -3.795992280499484)]\n"
     ]
    }
   ],
   "source": [
    "print(\"Similar words to 'terrible':\")\n",
    "print(similar(\"terrible\"))"
   ],
   "metadata": {
    "collapsed": false,
    "ExecuteTime": {
     "end_time": "2023-07-30T22:20:05.712361774Z",
     "start_time": "2023-07-30T22:20:01.844751896Z"
    }
   }
  },
  {
   "cell_type": "markdown",
   "source": [
    "## King - Man + Woman ~= Queen"
   ],
   "metadata": {
    "collapsed": false
   }
  },
  {
   "cell_type": "code",
   "execution_count": 19,
   "outputs": [],
   "source": [
    "def analogy(positive, negative):\n",
    "    norms = np.sum(weights_0_1 * weights_0_1, axis=1)\n",
    "    norms.resize(norms.shape[0], 1)\n",
    "\n",
    "    normed_weights = weights_0_1 * norms\n",
    "\n",
    "    query_vect = np.zeros(len(weights_0_1[0]))\n",
    "    for word in positive:\n",
    "        query_vect += normed_weights[word2idx[word]]\n",
    "    for word in negative:\n",
    "        query_vect -= normed_weights[word2idx[word]]\n",
    "\n",
    "    scores = Counter()\n",
    "    for word, index in word2idx.items():\n",
    "        raw_difference = weights_0_1[index] - query_vect\n",
    "        squared_difference = raw_difference * raw_difference\n",
    "        scores[word] = -np.sqrt(sum(squared_difference))\n",
    "\n",
    "    return scores.most_common(10)[1:]"
   ],
   "metadata": {
    "collapsed": false,
    "ExecuteTime": {
     "end_time": "2023-07-30T22:20:24.224875720Z",
     "start_time": "2023-07-30T22:20:24.220688773Z"
    }
   }
  },
  {
   "cell_type": "code",
   "execution_count": 20,
   "outputs": [
    {
     "data": {
      "text/plain": "[('decent', -342.32756293728033),\n ('nice', -342.9588963641498),\n ('fine', -343.09715527965426),\n ('terrific', -343.10555302337855),\n ('great', -343.54084381478344),\n ('compelling', -343.7423099856262),\n ('solid', -343.7817746080445),\n ('brief', -343.7923945454832),\n ('pleasant', -343.8000931523861)]"
     },
     "execution_count": 20,
     "metadata": {},
     "output_type": "execute_result"
    }
   ],
   "source": [
    "analogy(['terrible', 'good'], ['bad'])"
   ],
   "metadata": {
    "collapsed": false,
    "ExecuteTime": {
     "end_time": "2023-07-30T22:20:31.690313671Z",
     "start_time": "2023-07-30T22:20:27.382453047Z"
    }
   }
  },
  {
   "cell_type": "code",
   "execution_count": 21,
   "outputs": [
    {
     "data": {
      "text/plain": "[('unless', -133.95702239591307),\n ('/>Directed', -133.96289838334192),\n ('/>Most', -134.05407145589422),\n ('albeit', -134.0720228728984),\n ('sheer', -134.08710803133076),\n ('all.<br', -134.12072237194357),\n ('portrayal', -134.2454441164066),\n ('spite', -134.29580981276462),\n ('/>Speaking', -134.36538728988552)]"
     },
     "execution_count": 21,
     "metadata": {},
     "output_type": "execute_result"
    }
   ],
   "source": [
    "analogy(['elizabeth', 'he'], ['she'])"
   ],
   "metadata": {
    "collapsed": false,
    "ExecuteTime": {
     "end_time": "2023-07-30T22:20:35.494760678Z",
     "start_time": "2023-07-30T22:20:31.691928344Z"
    }
   }
  }
 ],
 "metadata": {
  "kernelspec": {
   "display_name": "Python 3",
   "language": "python",
   "name": "python3"
  },
  "language_info": {
   "codemirror_mode": {
    "name": "ipython",
    "version": 2
   },
   "file_extension": ".py",
   "mimetype": "text/x-python",
   "name": "python",
   "nbconvert_exporter": "python",
   "pygments_lexer": "ipython2",
   "version": "2.7.6"
  }
 },
 "nbformat": 4,
 "nbformat_minor": 0
}
