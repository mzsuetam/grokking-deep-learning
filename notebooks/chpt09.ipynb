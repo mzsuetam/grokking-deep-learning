{
 "cells": [
  {
   "cell_type": "markdown",
   "source": [
    "# Activation functions"
   ],
   "metadata": {
    "collapsed": false
   }
  },
  {
   "cell_type": "code",
   "execution_count": 14,
   "outputs": [],
   "source": [
    "import numpy as np\n",
    "from sklearn.datasets import fetch_openml\n",
    "from sklearn.model_selection import train_test_split\n",
    "\n",
    "import matplotlib.pyplot as plt\n"
   ],
   "metadata": {
    "collapsed": false,
    "ExecuteTime": {
     "end_time": "2023-07-20T20:28:30.441407954Z",
     "start_time": "2023-07-20T20:28:29.666594595Z"
    }
   }
  },
  {
   "cell_type": "code",
   "execution_count": 2,
   "outputs": [
    {
     "name": "stderr",
     "output_type": "stream",
     "text": [
      "/home/m_zsuetam/anaconda3/envs/ml/lib/python3.8/site-packages/sklearn/datasets/_openml.py:968: FutureWarning: The default value of `parser` will change from `'liac-arff'` to `'auto'` in 1.4. You can set `parser='auto'` to silence this warning. Therefore, an `ImportError` will be raised from 1.4 if the dataset is dense and pandas is not installed. Note that the pandas parser may return different data types. See the Notes Section in fetch_openml's API doc for details.\n",
      "  warn(\n"
     ]
    }
   ],
   "source": [
    "mnist = fetch_openml('mnist_784', as_frame=False)"
   ],
   "metadata": {
    "collapsed": false,
    "ExecuteTime": {
     "end_time": "2023-07-20T20:10:25.504987821Z",
     "start_time": "2023-07-20T20:10:11.714425137Z"
    }
   }
  },
  {
   "cell_type": "code",
   "execution_count": 3,
   "outputs": [],
   "source": [
    "n = int(1e3)\n",
    "\n",
    "labels = []\n",
    "for val in mnist.target:\n",
    "    label = np.zeros(10)\n",
    "    label[int(val)] = 1\n",
    "    labels.append(label)\n",
    "\n",
    "X_train, X_test, y_train, y_test = train_test_split(\n",
    "    mnist.data / 255.0,\n",
    "    labels,\n",
    "    test_size=0.2,\n",
    "    shuffle=True\n",
    ")\n",
    "X_train = X_train[:n]\n",
    "y_train = y_train[:n]\n",
    "X_test = X_test[:n]\n",
    "y_test = y_test[:n]"
   ],
   "metadata": {
    "collapsed": false,
    "ExecuteTime": {
     "end_time": "2023-07-20T20:10:26.090492022Z",
     "start_time": "2023-07-20T20:10:25.536172859Z"
    }
   }
  },
  {
   "cell_type": "code",
   "execution_count": 5,
   "outputs": [],
   "source": [
    "def relu(x):\n",
    "    return (x >= 0) * x\n",
    "\n",
    "def relu2deriv(x):\n",
    "    return x >= 0\n",
    "\n",
    "def sigmoid(x):\n",
    "    return 1 / (1 + np.exp(-x))\n",
    "\n",
    "def sigmoid2deriv(x):\n",
    "    return x * (1 - x)\n",
    "\n",
    "def tanh(x):\n",
    "    return np.tanh(x)\n",
    "\n",
    "def tanh2deriv(x):\n",
    "    return 1 - (x ** 2)\n",
    "\n",
    "def softmax(x):\n",
    "    temp = np.exp(x)\n",
    "    return temp / np.sum(temp, axis=1, keepdims=True)"
   ],
   "metadata": {
    "collapsed": false,
    "ExecuteTime": {
     "end_time": "2023-07-20T20:11:45.173847023Z",
     "start_time": "2023-07-20T20:11:45.130940245Z"
    }
   }
  },
  {
   "cell_type": "markdown",
   "source": [
    "## Mini-batch Gradient Descent"
   ],
   "metadata": {
    "collapsed": false
   }
  },
  {
   "cell_type": "code",
   "execution_count": 16,
   "outputs": [
    {
     "name": "stdout",
     "output_type": "stream",
     "text": [
      "Epoch: 110\n",
      " Train-Acc: 0.883 \t Test-Acc: 0.84\n",
      "Epoch: 120\n",
      " Train-Acc: 0.887 \t Test-Acc: 0.844\n",
      "Epoch: 130\n",
      " Train-Acc: 0.898 \t Test-Acc: 0.847\n",
      "Epoch: 140\n",
      " Train-Acc: 0.902 \t Test-Acc: 0.848\n",
      "Epoch: 150\n",
      " Train-Acc: 0.905 \t Test-Acc: 0.85\n",
      "Epoch: 160\n",
      " Train-Acc: 0.906 \t Test-Acc: 0.854\n",
      "Epoch: 170\n",
      " Train-Acc: 0.903 \t Test-Acc: 0.856\n",
      "Epoch: 180\n",
      " Train-Acc: 0.913 \t Test-Acc: 0.857\n",
      "Epoch: 190\n",
      " Train-Acc: 0.92 \t Test-Acc: 0.86\n",
      "Epoch: 200\n",
      " Train-Acc: 0.923 \t Test-Acc: 0.859\n",
      "Epoch: 210\n",
      " Train-Acc: 0.926 \t Test-Acc: 0.859\n",
      "Epoch: 220\n",
      " Train-Acc: 0.924 \t Test-Acc: 0.859\n",
      "Epoch: 230\n",
      " Train-Acc: 0.931 \t Test-Acc: 0.86\n",
      "Epoch: 240\n",
      " Train-Acc: 0.925 \t Test-Acc: 0.858\n",
      "Epoch: 250\n",
      " Train-Acc: 0.94 \t Test-Acc: 0.863\n",
      "Epoch: 260\n",
      " Train-Acc: 0.931 \t Test-Acc: 0.859\n",
      "Epoch: 270\n",
      " Train-Acc: 0.944 \t Test-Acc: 0.86\n",
      "Epoch: 280\n",
      " Train-Acc: 0.939 \t Test-Acc: 0.86\n",
      "Epoch: 290\n",
      " Train-Acc: 0.949 \t Test-Acc: 0.861\n"
     ]
    },
    {
     "data": {
      "text/plain": "[<matplotlib.lines.Line2D at 0x7fd6b21b2940>]"
     },
     "execution_count": 15,
     "metadata": {},
     "output_type": "execute_result"
    },
    {
     "data": {
      "text/plain": "<Figure size 432x288 with 1 Axes>",
      "image/png": "[encoded data removed]"
     },
     "metadata": {
      "needs_background": "light"
     },
     "output_type": "display_data"
    },
    {
     "name": "stdout",
     "output_type": "stream",
     "text": [
      "Epoch: 0\n",
      " Train-Acc: 0.199 \t Test-Acc: 0.405\n",
      "Epoch: 10\n",
      " Train-Acc: 0.725 \t Test-Acc: 0.724\n",
      "Epoch: 20\n",
      " Train-Acc: 0.762 \t Test-Acc: 0.748\n",
      "Epoch: 30\n",
      " Train-Acc: 0.776 \t Test-Acc: 0.77\n",
      "Epoch: 40\n",
      " Train-Acc: 0.81 \t Test-Acc: 0.788\n",
      "Epoch: 50\n",
      " Train-Acc: 0.831 \t Test-Acc: 0.806\n",
      "Epoch: 60\n",
      " Train-Acc: 0.85 \t Test-Acc: 0.816\n",
      "Epoch: 70\n",
      " Train-Acc: 0.858 \t Test-Acc: 0.824\n",
      "Epoch: 80\n",
      " Train-Acc: 0.865 \t Test-Acc: 0.831\n",
      "Epoch: 90\n",
      " Train-Acc: 0.879 \t Test-Acc: 0.839\n",
      "Epoch: 100\n",
      " Train-Acc: 0.877 \t Test-Acc: 0.835\n",
      "Epoch: 110\n",
      " Train-Acc: 0.894 \t Test-Acc: 0.84\n",
      "Epoch: 120\n",
      " Train-Acc: 0.882 \t Test-Acc: 0.843\n",
      "Epoch: 130\n",
      " Train-Acc: 0.895 \t Test-Acc: 0.846\n",
      "Epoch: 140\n",
      " Train-Acc: 0.903 \t Test-Acc: 0.845\n",
      "Epoch: 150\n",
      " Train-Acc: 0.894 \t Test-Acc: 0.85\n",
      "Epoch: 160\n",
      " Train-Acc: 0.91 \t Test-Acc: 0.85\n",
      "Epoch: 170\n",
      " Train-Acc: 0.904 \t Test-Acc: 0.855\n",
      "Epoch: 180\n",
      " Train-Acc: 0.914 \t Test-Acc: 0.854\n",
      "Epoch: 190\n",
      " Train-Acc: 0.915 \t Test-Acc: 0.856\n",
      "Epoch: 200\n",
      " Train-Acc: 0.916 \t Test-Acc: 0.858\n",
      "Epoch: 210\n",
      " Train-Acc: 0.925 \t Test-Acc: 0.857\n",
      "Epoch: 220\n",
      " Train-Acc: 0.92 \t Test-Acc: 0.858\n",
      "Epoch: 230\n",
      " Train-Acc: 0.926 \t Test-Acc: 0.857\n",
      "Epoch: 240\n",
      " Train-Acc: 0.928 \t Test-Acc: 0.857\n",
      "Epoch: 250\n",
      " Train-Acc: 0.942 \t Test-Acc: 0.859\n",
      "Epoch: 260\n",
      " Train-Acc: 0.931 \t Test-Acc: 0.858\n",
      "Epoch: 270\n",
      " Train-Acc: 0.937 \t Test-Acc: 0.859\n",
      "Epoch: 280\n",
      " Train-Acc: 0.932 \t Test-Acc: 0.858\n",
      "Epoch: 290\n",
      " Train-Acc: 0.936 \t Test-Acc: 0.858\n"
     ]
    }
   ],
   "source": [
    "batch_size = 100\n",
    "alpha = 2\n",
    "epochs = 300\n",
    "hidden_size = 100\n",
    "\n",
    "weights_0_1 = 0.02 * np.random.random((28 * 28, hidden_size)) - 0.01\n",
    "weights_1_2 = 0.2 * np.random.random((hidden_size, 10)) - 0.1\n",
    "\n",
    "train_acc_list = []\n",
    "test_acc_list = []\n",
    "\n",
    "for e in range(epochs):\n",
    "    correct_cnt = 0\n",
    "    for i in range(int(len(X_train) / batch_size)):\n",
    "        batch_start = i * batch_size\n",
    "        batch_end = (i + 1) * batch_size\n",
    "\n",
    "        layer_0 = X_train[batch_start: batch_end]\n",
    "        layer_1 = tanh(np.dot(layer_0, weights_0_1))\n",
    "        dropout_mask = np.random.randint(2, size=layer_1.shape)\n",
    "        # print(layer_1, dropout_mask, dropout_mask*2, layer_1*dropout_mask*2)\n",
    "        layer_1 *= dropout_mask * 2  # mnożymy przez 2, aby nie 'osłabić' wejścia następnej warstwy\n",
    "        layer_2 = softmax(np.dot(layer_1, weights_1_2))\n",
    "\n",
    "        # error += np.sum((y_train[batch_start: batch_end] - layer_2) ** 2)\n",
    "        for k in range(batch_size):\n",
    "            correct_cnt += int(\n",
    "                np.argmax(layer_2[k:k + 1]) == np.argmax(y_train[batch_start + k: batch_start + k + 1])\n",
    "            )\n",
    "\n",
    "        layer_2_delta = (y_train[batch_start: batch_end] - layer_2) / ( batch_size * layer_2.shape[0])\n",
    "        layer_1_delta = layer_2_delta.dot(weights_1_2.T) * tanh2deriv(layer_1)\n",
    "        layer_1_delta *= dropout_mask\n",
    "\n",
    "        weights_1_2 += alpha * layer_1.T.dot(layer_2_delta)\n",
    "        weights_0_1 += alpha * layer_0.T.dot(layer_1_delta)\n",
    "\n",
    "    if e % 10 == 0:\n",
    "\n",
    "        test_correct_cnt = 0\n",
    "\n",
    "        for i in range(len(X_test)):\n",
    "            layer_0 = X_test[i:i + 1]\n",
    "            layer_1 = tanh(np.dot(layer_0, weights_0_1))\n",
    "            layer_2 = np.dot(layer_1, weights_1_2)\n",
    "\n",
    "            test_correct_cnt += int(\n",
    "                np.argmax(layer_2) == np.argmax(y_test[i:i + 1])\n",
    "            )\n",
    "\n",
    "        train_acc_list.append(correct_cnt / len(X_train))\n",
    "        test_acc_list.append(test_correct_cnt / len(X_test))\n",
    "\n",
    "        print(f\"Epoch: {e}\")\n",
    "        print(f\" Train-Acc: {correct_cnt / len(X_train):.4} \"\n",
    "              f\"\\t Test-Acc: {test_correct_cnt / len(X_test):.4}\")"
   ],
   "metadata": {
    "collapsed": false
   }
  },
  {
   "cell_type": "code",
   "execution_count": 17,
   "outputs": [
    {
     "data": {
      "text/plain": "[<matplotlib.lines.Line2D at 0x7fd6b20a5e80>]"
     },
     "execution_count": 17,
     "metadata": {},
     "output_type": "execute_result"
    },
    {
     "data": {
      "text/plain": "<Figure size 432x288 with 1 Axes>",
      "image/png": "[encoded data removed]"
     },
     "metadata": {
      "needs_background": "light"
     },
     "output_type": "display_data"
    }
   ],
   "source": [
    "plt.plot(train_acc_list, label='train')\n",
    "plt.plot(test_acc_list, label='test')"
   ],
   "metadata": {
    "collapsed": false,
    "ExecuteTime": {
     "end_time": "2023-07-20T20:29:41.666461454Z",
     "start_time": "2023-07-20T20:29:41.500103015Z"
    }
   }
  },
  {
   "cell_type": "markdown",
   "source": [
    "Gradient descent: od 4 min 34 s\n",
    "```\n",
    "Train-Err: 0.3154\n",
    "Train-Acc: 0.903\n",
    "Test-Err: 0.4271\n",
    "Test-Acc: 0.786\n",
    "```\n",
    "\n",
    "Mini-batch gradient descent: 7 min 48 s\n",
    "```\n",
    "Train-Err: 0.3927\n",
    "Train-Acc: 0.832\n",
    "Test-Err: 0.4049\n",
    "Test-Acc: 0.8\n",
    "```\n",
    "\n",
    "Mini-batch gradient descent with activation functions: 15 s\n",
    "```\n",
    "Train-Acc: 0.942\n",
    "Test-Acc: 0.859\n",
    "```\n",
    "\n"
   ],
   "metadata": {
    "collapsed": false
   }
  }
 ],
 "metadata": {
  "kernelspec": {
   "display_name": "Python 3",
   "language": "python",
   "name": "python3"
  },
  "language_info": {
   "codemirror_mode": {
    "name": "ipython",
    "version": 2
   },
   "file_extension": ".py",
   "mimetype": "text/x-python",
   "name": "python",
   "nbconvert_exporter": "python",
   "pygments_lexer": "ipython2",
   "version": "2.7.6"
  }
 },
 "nbformat": 4,
 "nbformat_minor": 0
}
